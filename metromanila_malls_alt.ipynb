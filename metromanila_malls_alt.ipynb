{
 "cells": [
  {
   "cell_type": "code",
   "execution_count": null,
   "id": "c8afd810-cdb2-484c-86b1-5ba774c2263b",
   "metadata": {},
   "outputs": [],
   "source": [
    "import pandas as pd\n",
    "import numpy as np\n",
    "import requests\n",
    "import re\n",
    "import osmnx as ox\n",
    "import geopandas as gpd\n",
    "\n",
    "df = pd.read_csv('your csv file')\n",
    "df"
   ]
  },
  {
   "cell_type": "code",
   "execution_count": null,
   "id": "72c8d220-31af-49e3-af31-6e3c6d92558a",
   "metadata": {},
   "outputs": [],
   "source": [
    "filtered_df = df[df['polygon'].isnull() | (df['polygon'] == '')]\n",
    "\n",
    "# Extract mall_name from the filtered DataFrame\n",
    "emp_df = filtered_df['mall_name']\n",
    "\n",
    "emp_df"
   ]
  },
  {
   "cell_type": "code",
   "execution_count": null,
   "id": "07e403fd-44c3-4fed-b333-f18498a39fb3",
   "metadata": {},
   "outputs": [],
   "source": [
    "mall_names = []\n",
    "for i in emp_df:\n",
    "    mall_names.append(i)\n",
    "\n",
    "mall_names"
   ]
  },
  {
   "cell_type": "code",
   "execution_count": null,
   "id": "710b59b5-42ac-4e49-9a74-58f0498c53d5",
   "metadata": {},
   "outputs": [],
   "source": [
    "# Function to format polygon points as a string in the required format\n",
    "def format_polygon_points(polygon_points):\n",
    "    formatted_points = \", \".join([f\"{lon} {lat}\" for lat, lon in polygon_points])\n",
    "    return f\"POLYGON (({formatted_points}))\"\n",
    "    \n",
    "# Function to get polygon points from OpenStreetMap within the Philippines boundary\n",
    "def get_polygon_points(place_name):\n",
    "    overpass_url = \"http://overpass-api.de/api/interpreter\"\n",
    "    overpass_query = f\"\"\"\n",
    "    [out:json];\n",
    "    // Define the boundary for the Philippines\n",
    "    area[name=\"Philippines\"];\n",
    "    // Query for the place name within the Philippines boundary\n",
    "    area[name=\"{place_name}\"](area);\n",
    "    // Output the geometry of the area\n",
    "    out geom;\n",
    "    \"\"\"\n",
    "    response = requests.post(overpass_url, data=overpass_query)\n",
    "    data = response.json()\n",
    "    if 'elements' in data and len(data['elements']) > 0:\n",
    "        element = data['elements'][0]\n",
    "        if 'type' in element and element['type'] == 'way':\n",
    "            # Extract polygon points\n",
    "            polygon_points = [(node['lat'], node['lon']) for node in element['geometry']]\n",
    "            return format_polygon_points(polygon_points)\n",
    "    return None"
   ]
  },
  {
   "cell_type": "code",
   "execution_count": null,
   "id": "554103bf-4655-4474-a351-dd931fab21f5",
   "metadata": {},
   "outputs": [],
   "source": [
    "# Alternative functions to get polygons\n",
    "def format_polygon_points2(polygon_points):\n",
    "    formatted_points = \", \".join([f\"{lat} {lon}\" for lat, lon in polygon_points])\n",
    "    return f\"POLYGON (({formatted_points}))\"\n",
    "\n",
    "def get_polygon_points2(mall_name):\n",
    "    try:\n",
    "        area = ox.geocode_to_gdf(mall_name)\n",
    "        if area.empty:\n",
    "            print(f\"Mall Name: {mall_name} Polygon_points: not found\")\n",
    "            return []\n",
    "        polygon_points = []\n",
    "        for geometry in area.geometry:\n",
    "            polygon_points.extend(geometry.exterior.coords)\n",
    "        return format_polygon_points2(polygon_points)\n",
    "    except (ox.geocoder.InsufficientResponseError, TypeError, AttributeError):\n",
    "        print(f\"Mall Name: {mall_name} Polygon_points: Polygon points not found again\")\n",
    "        return []"
   ]
  },
  {
   "cell_type": "code",
   "execution_count": null,
   "id": "870cb3df-afcf-4b7e-b101-492367242d62",
   "metadata": {},
   "outputs": [],
   "source": [
    "remaining = [] # Paste remaining values from mall_name list here\n",
    "\n",
    "new = [] # list for Data Frame\n",
    "\n",
    "for mall in remaining:\n",
    "    poly = get_polygon_points2(mall)\n",
    "    if poly:\n",
    "        new.append([mall, poly])\n",
    "        print(f\"Mall Name: {mall}\")\n",
    "        print()\n",
    "        print(get_polygon_points2(mall))\n",
    "        print()\n",
    "        print()\n",
    "    else:\n",
    "        poly = None\n",
    "        new.append([mall, poly])\n",
    "        print(f\"Mall Name: {mall} Polygon_points: not found\")\n",
    "\n",
    "new_df = pd.DataFrame(new, columns=['mall_name', 'polygon'])\n"
   ]
  },
  {
   "cell_type": "code",
   "execution_count": null,
   "id": "6fdceaeb-a4e2-4fc3-95f0-ec49d4e07e94",
   "metadata": {},
   "outputs": [],
   "source": [
    "new_df "
   ]
  },
  {
   "cell_type": "code",
   "execution_count": null,
   "id": "a5c1301b-f2e2-4c5a-8055-8ac3485b7a17",
   "metadata": {},
   "outputs": [],
   "source": [
    "new_df.to_csv('left-over-manila.csv', sep=',', index=False, encoding='utf-8')"
   ]
  }
 ],
 "metadata": {
  "kernelspec": {
   "display_name": "Python 3 (ipykernel)",
   "language": "python",
   "name": "python3"
  },
  "language_info": {
   "codemirror_mode": {
    "name": "ipython",
    "version": 3
   },
   "file_extension": ".py",
   "mimetype": "text/x-python",
   "name": "python",
   "nbconvert_exporter": "python",
   "pygments_lexer": "ipython3",
   "version": "3.10.11"
  }
 },
 "nbformat": 4,
 "nbformat_minor": 5
}
